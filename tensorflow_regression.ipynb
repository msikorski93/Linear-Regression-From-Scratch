{
 "cells": [
  {
   "cell_type": "markdown",
   "metadata": {},
   "source": [
    "# Linear Regression in TensorFlow Framework\n",
    "\n",
    "**Author:** Marcin Sikorski<br>\n",
    "Date: April, 2023\n",
    "\n",
    "A simple demonstration of linear (and polynomial) regression solution made with <code>TensorFlow</code> library. Each example will have one independent variable.\n",
    "\n",
    "### Introduction and Formulation\n",
    "\n",
    "Linear regression is a type of supervised machine learning and is one of the most fundamental algorithms in the data science field. It aims at finding and tracking a trend line of given data.\n",
    "\n",
    "<img src='https://dezyre.gumlet.io/images/blog/scikit-learn-linear-regression-example/image_271261974911640325874720.png?w=330&dpr=2.6'  width='350'>\n",
    "\n",
    "As we know, the formula for a straight line is:\n",
    "\n",
    "$$y = ax + b,$$\n",
    "\n",
    "where the parameters defining the nature of a line are: $a$ the slope or gradient and $b$ the intercept. Therefore, given the data $X$, we wish to find its trend with the result $y$. This provides us to the predicted regression line estimated by the model:\n",
    "\n",
    "$$y(x_i) = a_1 x + a_2,$$\n",
    "\n",
    "where $a_1$ and $a_2$ are the parameters to be learned by the regression model. The same equation can be denoted in terms of matrices as:\n",
    "\n",
    "$$f w(x) = w x,$$\n",
    "\n",
    "where the data matrix $w \\in \\mathbb{R}^{d_2 \\times d_1}$ holds the model's parameters we need to find.\n",
    "\n",
    "To sum up, we need to find a $w$ that minimizes the residuals $\\Delta$:\n",
    "\n",
    "$\\hat{w} = argmi_w ||\\Delta||$,\n",
    "defined by $\\Delta_i = y_i - \\hat{y}(x_i, w).$\n",
    "\n",
    "### Generating Training Data\n",
    "\n",
    "For this experiment we will create data to approximate a nonlinear function given by the following equation:\n",
    "\n",
    "$$y = x \\cos(x).$$\n",
    "\n",
    "We will generate two datasets: observations dataset and ground truth data. The observations will imitate real life data and contain some noise."
   ]
  },
  {
   "cell_type": "code",
   "execution_count": 1,
   "metadata": {},
   "outputs": [
    {
     "name": "stdout",
     "output_type": "stream"
    }
   ],
   "source": [
    "import numpy as np\n",
    "import matplotlib.pyplot as plt\n",
    "\n",
    "import tensorflow.compat.v1 as tf\n",
    "tf.disable_v2_behavior()\n",
    "\n",
    "# random state instances for modules\n",
    "np.random.seed(seed=42)\n",
    "tf.random.set_random_seed(seed=42)"
   ]
  },
  {
   "cell_type": "code",
   "execution_count": 2,
   "metadata": {},
   "outputs": [],
   "source": [
    "# define equation: y = x cos(x)\n",
    "def generate_samples(x):\n",
    "    return x * np.cos(x)\n",
    "\n",
    "num_samples = 100\n",
    "noise_ratio = 0.4\n",
    "\n",
    "# generate training points\n",
    "observation_data = np.random.uniform(low=-np.pi, high=np.pi, size=(num_samples, 1))\n",
    "values_for_observation = generate_samples(observation_data) + noise_ratio * np.random.normal(size=observation_data.shape)\n",
    "\n",
    "# generate ground truth data\n",
    "xs = np.linspace(-np.pi, np.pi, num=num_samples)[:, np.newaxis]\n",
    "ys = generate_samples(xs)"
   ]
  },
  {
   "cell_type": "code",
   "execution_count": 3,
   "metadata": {},
   "outputs": [
    {
     "data": {
      "image/png": "[encoded data removed]",
      "text/plain": [
       "<Figure size 432x288 with 1 Axes>"
      ]
     },
     "metadata": {
      "needs_background": "light"
     },
     "output_type": "display_data"
    }
   ],
   "source": [
    "# visualize data for experiment\n",
    "plt.plot(xs, ys, label='truth')\n",
    "plt.scatter(observation_data, values_for_observation, marker='.', color='red', label='observations')\n",
    "plt.legend()\n",
    "plt.show()"
   ]
  },
  {
   "cell_type": "markdown",
   "metadata": {},
   "source": [
    "### I. Linear Regression\n",
    "\n",
    "### Finding Parameters $w$ and $b$\n",
    "\n",
    "The model will be a basic linear regression defined as: $\\hat{y}(x, w, b) = wx + b$, where $w$ is weight, $x$ our input data, and $b$ bias."
   ]
  },
  {
   "cell_type": "code",
   "execution_count": 4,
   "metadata": {},
   "outputs": [
    {
     "name": "stdout",
     "output_type": "stream",
     "text": [
      "Tensor(\"linear_model/add:0\", shape=(?, 1), dtype=float32)\n",
      "Tensor(\"data_input:0\", shape=(?, 1), dtype=float32)\n"
     ]
    }
   ],
   "source": [
    "# set input and output data\n",
    "data_input = tf.placeholder(dtype=tf.float32, shape=(None, 1), name='data_input')\n",
    "target_output = tf.placeholder(dtype=tf.float32, shape=(None, 1), name='target_input')\n",
    "\n",
    "with tf.variable_scope(name_or_scope='linear_model', reuse=tf.AUTO_REUSE):\n",
    "    w = tf.get_variable(name='w', shape=(1, 1), dtype=tf.float32, initializer=tf.initializers.random_normal())\n",
    "    b = tf.get_variable(name='b', shape=(1, 1), dtype=tf.float32, initializer=tf.initializers.zeros())\n",
    "    model_output = w * data_input + b\n",
    "        \n",
    "print(model_output)\n",
    "print(data_input)"
   ]
  },
  {
   "cell_type": "markdown",
   "metadata": {},
   "source": [
    "### Loss Function\n",
    "\n",
    "To measure the goodness (quality) of an estimator, we must use a cost function. We will define MSE (mean squared error) as the minimizing metric, meaning that smaller relative scores indicate more or better learning. The MSE is signed as following:\n",
    "\n",
    "$$E = \\frac{1}{2N}||\\overline{y} - y||^2 _2,$$\n",
    "\n",
    "where $||\\overline{y} - y||^2 _2$ is the L2 norm (or norm 2). In linear algebra, the L2 norm calculates the distance of the vector coordinate from the origin of the vector space. Other norm 2 notation is:\n",
    "\n",
    "$$||x||_2 = \\sqrt{\\sum_{i=1}^n|x_i|^2}.$$"
   ]
  },
  {
   "cell_type": "code",
   "execution_count": 5,
   "metadata": {},
   "outputs": [],
   "source": [
    "# define MSE for cost function\n",
    "with tf.name_scope(name='linear_cost_function'):\n",
    "    cost_function = tf.losses.mean_squared_error(model_output, target_output)"
   ]
  },
  {
   "cell_type": "markdown",
   "metadata": {},
   "source": [
    "### Model Optimizer\n",
    "\n",
    "For better $w$ and $b$ fitting we have to find cost function minimum. The most widely used algorithm is the gradient descent optimization."
   ]
  },
  {
   "cell_type": "code",
   "execution_count": 6,
   "metadata": {},
   "outputs": [],
   "source": [
    "learning_rate = 0.001\n",
    "\n",
    "# define gradient descent for optimizer\n",
    "with tf.name_scope(name='linear_optimizer'):\n",
    "    optimizer = tf.train.GradientDescentOptimizer(learning_rate=learning_rate)\n",
    "    optimization_step = optimizer.minimize(cost_function)"
   ]
  },
  {
   "cell_type": "markdown",
   "metadata": {},
   "source": [
    "### Training the Linear Model\n",
    "\n",
    "The model is ready for further learning. We will initialize a list to collect loss values for each epoch."
   ]
  },
  {
   "cell_type": "code",
   "execution_count": 7,
   "metadata": {},
   "outputs": [
    {
     "name": "stdout",
     "output_type": "stream",
     "text": [
      "===== Training Results =====\n",
      "\n",
      "Iteration: 0, \tloss: 1.27656\n",
      "Iteration: 1000, \tloss: 0.847222\n",
      "Iteration: 2000, \tloss: 0.847221\n",
      "Iteration: 3000, \tloss: 0.847221\n",
      "Iteration: 4000, \tloss: 0.847221\n",
      "Iteration: 5000, \tloss: 0.847221\n",
      "Iteration: 6000, \tloss: 0.847221\n",
      "Iteration: 7000, \tloss: 0.847221\n",
      "Iteration: 8000, \tloss: 0.847221\n",
      "Iteration: 9000, \tloss: 0.847221\n"
     ]
    }
   ],
   "source": [
    "epochs = 10_000\n",
    "init = tf.global_variables_initializer()\n",
    "errors = []\n",
    "\n",
    "# run linear regression model\n",
    "with tf.Session() as sess:\n",
    "    sess.run(init)\n",
    "\n",
    "    print('===== Training Results =====\\n')\n",
    "    for i in range(epochs):\n",
    "        loss, _ = sess.run([cost_function, optimization_step],\n",
    "                           feed_dict={data_input: observation_data, target_output: values_for_observation})\n",
    "        errors.append(loss)\n",
    "        \n",
    "        # display loss for each iteration\n",
    "        if i % 1_000 == 0:\n",
    "            print('Iteration: {}, \\tloss: {:.6}'.format(i, loss))\n",
    "            \n",
    "        predictions = sess.run(model_output, feed_dict={data_input: xs})"
   ]
  },
  {
   "cell_type": "code",
   "execution_count": 8,
   "metadata": {},
   "outputs": [
    {
     "data": {
      "image/png": "[encoded data removed]",
      "text/plain": [
       "<Figure size 864x288 with 2 Axes>"
      ]
     },
     "metadata": {
      "needs_background": "light"
     },
     "output_type": "display_data"
    }
   ],
   "source": [
    "# plot training results\n",
    "def plot_results():\n",
    "    from sklearn.metrics import r2_score as r2\n",
    "    \n",
    "    fig = plt.figure(figsize=(12, 4))\n",
    "    plt.subplot(1, 2, 1)\n",
    "    plt.plot(list(range(epochs)), errors)\n",
    "    plt.title('Cost vs Iteration')\n",
    "    \n",
    "    plt.subplot(1, 2, 2)\n",
    "    plt.plot(xs, ys, label='truth')\n",
    "    plt.plot(xs, predictions, color='r', label='predict')\n",
    "    plt.scatter(observation_data, values_for_observation, marker='.', color='g', label='observations')\n",
    "    plt.title('$R^2$ = {:.6}'.format(r2(predictions, ys)))\n",
    "    plt.legend()\n",
    "    plt.show()\n",
    "    \n",
    "plot_results()"
   ]
  },
  {
   "cell_type": "markdown",
   "metadata": {},
   "source": [
    "The linear model does not perform really good. The approximation is poor and very generalized. The shape of the curve is completely miscaptured. For a better solution, we need to apply a more sophisticated model for a polynomial function.\n",
    "\n",
    "### II. Polynomial Regression\n",
    "\n",
    "Polynomial regression is a form of regression analysis in which the relationship between the independent variable $x$ and the dependent variable $y$ is modelled as an n-th degree polynomial in $x$. This regression fits a nonlinear relationship between the value of $x$ and the corresponding conditional mean of $y$.\n",
    "The formula for a nonlinear line is:\n",
    "\n",
    "$$y = a_1x + a_2x^2 + ... + a_nx^n + b$$\n",
    "\n",
    "or:\n",
    "\n",
    "$$\\hat{y}(x, w, b) = w_1x + w_2x^2 + ... + w_nx^n.$$\n",
    "\n",
    "### Design Matrix and Transforming Data\n",
    "\n",
    "A design matrix (model matrix or regressor matrix) is a matrix of values of explanatory variables of a set of objects. Depending on the definition the matrix takes different forms. It's size has dimension $n$-by-$p$, where $n$ is the number of samples observed, and $p$ is the number of variables (features) measured in all samples. Some examples of model matrices (with 4-th degree) are as following:\n",
    "\n",
    "$$\\Phi(x) = \\begin{bmatrix}x&x^2&x^3&x^4\\end{bmatrix}^T,$$\n",
    "\n",
    "$$\\Phi(x) = \\begin{bmatrix}1&e^x&e^{2x}&e^{3x}\\end{bmatrix}^T,$$\n",
    "\n",
    "where $x$ is the vector of observations. For a vector with observations:\n",
    "\n",
    "$$x = \\begin{bmatrix}1\\cr2\\cr4\\cr\\end{bmatrix},$$\n",
    "\n",
    "the matrices will be equal:\n",
    "\n",
    "$$\\Phi(x) = \\begin{bmatrix}1&1&1&1\\cr2&4&8&16\\cr4&16&64&256\\end{bmatrix},$$\n",
    "\n",
    "$$\\Phi(x) = \\begin{bmatrix}1&e^1&e^2&e^3\\cr1&e^2&e^4&e^6\\cr1&e^4&e^8&e^{12}\\end{bmatrix}.$$"
   ]
  },
  {
   "cell_type": "code",
   "execution_count": 9,
   "metadata": {},
   "outputs": [],
   "source": [
    "# define design matrix\n",
    "def design_matrix(x_data, poly_degree):\n",
    "    matrix = np.array([x_data**i for i in range(1, poly_degree + 1)]).T\n",
    "    return matrix[0]"
   ]
  },
  {
   "cell_type": "code",
   "execution_count": 10,
   "metadata": {},
   "outputs": [
    {
     "name": "stdout",
     "output_type": "stream",
     "text": [
      "Design matrix:\n",
      " [[  1   1   1   1]\n",
      " [  2   4   8  16]\n",
      " [  4  16  64 256]]\n"
     ]
    }
   ],
   "source": [
    "# perform an example\n",
    "x = np.array([1, 2, 4])\n",
    "x = np.reshape(x, (3, 1))\n",
    "\n",
    "print('Design matrix:\\n', design_matrix(x_data=x, poly_degree=4))"
   ]
  },
  {
   "cell_type": "markdown",
   "metadata": {},
   "source": [
    "Our new model is non-linear, which means that we must transform our data. A polynomial does not have single dimension data and we will need to expand it with the design matrix."
   ]
  },
  {
   "cell_type": "code",
   "execution_count": 11,
   "metadata": {},
   "outputs": [],
   "source": [
    "# transform data: dimensional adjustment\n",
    "poly_degree = 4\n",
    "observation_data_design_matrix = design_matrix(observation_data, poly_degree)\n",
    "xs_design_matrix = design_matrix(xs, poly_degree)"
   ]
  },
  {
   "cell_type": "markdown",
   "metadata": {},
   "source": [
    "### Finding Parameters $w$ and $b$\n",
    "\n",
    "We will use the same hypothesis as implemented in linear regression with additionally modified input data."
   ]
  },
  {
   "cell_type": "code",
   "execution_count": 12,
   "metadata": {},
   "outputs": [
    {
     "name": "stdout",
     "output_type": "stream",
     "text": [
      "Tensor(\"polynomial_model/add:0\", shape=(?, 1), dtype=float32)\n",
      "Tensor(\"data_input_1:0\", shape=(?, 4), dtype=float32)\n"
     ]
    }
   ],
   "source": [
    "# set input and output data\n",
    "data_input = tf.placeholder(dtype=tf.float32, shape=(None, poly_degree), name='data_input')\n",
    "target_output = tf.placeholder(dtype=tf.float32, shape=(None, 1), name='target_input')\n",
    "\n",
    "with tf.variable_scope(name_or_scope='polynomial_model', reuse=tf.AUTO_REUSE):   \n",
    "    w = tf.get_variable(name='w', shape=(poly_degree, 1), dtype=tf.float32, initializer=tf.initializers.random_normal())\n",
    "    b = tf.get_variable(name='b', shape=(1, 1), dtype=tf.float32, initializer=tf.initializers.random_normal())\n",
    "    \n",
    "    model_output = tf.linalg.matmul(data_input, w) + b\n",
    "    \n",
    "print(model_output)\n",
    "print(data_input)"
   ]
  },
  {
   "cell_type": "markdown",
   "metadata": {},
   "source": [
    "### Loss Function\n",
    "\n",
    "Again, we will apply the MSE (mean squared error) as the cost function."
   ]
  },
  {
   "cell_type": "code",
   "execution_count": 13,
   "metadata": {},
   "outputs": [],
   "source": [
    "with tf.name_scope(name='polynomial_cost_function'):\n",
    "    cost_function = tf.losses.mean_squared_error(model_output, target_output)"
   ]
  },
  {
   "cell_type": "markdown",
   "metadata": {},
   "source": [
    "### Model Optimizer\n",
    "\n",
    "We will apply as previously used the partial derivatives (gradients) of the loss function. This time with different learning rate."
   ]
  },
  {
   "cell_type": "code",
   "execution_count": 14,
   "metadata": {},
   "outputs": [],
   "source": [
    "learning_rate = 0.0001\n",
    "\n",
    "with tf.name_scope(name='polynomial_optimizer'):\n",
    "    optimizer = tf.train.GradientDescentOptimizer(learning_rate=learning_rate)\n",
    "    optimization_step = optimizer.minimize(cost_function)"
   ]
  },
  {
   "cell_type": "markdown",
   "metadata": {},
   "source": [
    "### Training the Polynomial Model"
   ]
  },
  {
   "cell_type": "code",
   "execution_count": 15,
   "metadata": {},
   "outputs": [
    {
     "name": "stdout",
     "output_type": "stream",
     "text": [
      "===== Training Results =====\n",
      "\n",
      "Iteration: 0, \tloss: 358.366\n",
      "Iteration: 5000, \tloss: 1.04943\n",
      "Iteration: 10000, \tloss: 0.520779\n",
      "Iteration: 15000, \tloss: 0.32852\n",
      "Iteration: 20000, \tloss: 0.251174\n",
      "Iteration: 25000, \tloss: 0.217869\n",
      "Iteration: 30000, \tloss: 0.20227\n",
      "Iteration: 35000, \tloss: 0.194255\n",
      "Iteration: 40000, \tloss: 0.189772\n",
      "Iteration: 45000, \tloss: 0.18709\n"
     ]
    },
    {
     "data": {
      "image/png": "[encoded data removed]",
      "text/plain": [
       "<Figure size 864x288 with 2 Axes>"
      ]
     },
     "metadata": {
      "needs_background": "light"
     },
     "output_type": "display_data"
    }
   ],
   "source": [
    "epochs = 50_000\n",
    "init = tf.global_variables_initializer()\n",
    "errors = []\n",
    "\n",
    "# run polynomial regression model\n",
    "with tf.Session() as sess:\n",
    "    sess.run(init)\n",
    "    \n",
    "    print('===== Training Results =====\\n')\n",
    "    for i in range(epochs):\n",
    "        loss, _ = sess.run([cost_function, optimization_step],\n",
    "                            feed_dict={data_input: observation_data_design_matrix, target_output: values_for_observation})\n",
    "        errors.append(loss)\n",
    "        \n",
    "        # display loss for each iteration\n",
    "        if i % 5_000 == 0:\n",
    "            print('Iteration: {}, \\tloss: {:.6}'.format(i, loss))\n",
    "            \n",
    "        predictions = sess.run(model_output, feed_dict={data_input: xs_design_matrix})\n",
    "        \n",
    "# plot training results\n",
    "plot_results()"
   ]
  },
  {
   "cell_type": "markdown",
   "metadata": {},
   "source": [
    "As we can see, the model can predict the curvature of the dataset relatively well. Polynomial regression is vulnerable to overfitting. We can improve the model performance with regularization.\n",
    "\n",
    "### Regularization\n",
    "\n",
    "To overcome overfitting we will add a regularization term to our loss function. We want to avoid the model to fit extremely well to the training data. We will implement L2 regularization. This penalty term is noted as following:\n",
    "\n",
    "$$\\lambda {\\sum_{i=1}^nw_i^2}.$$\n",
    "\n",
    "The regularization adds weight to each variable so the model will not learn too complex. It takes a $\\lambda$ hyperparameter which we must define on our own."
   ]
  },
  {
   "cell_type": "code",
   "execution_count": 16,
   "metadata": {},
   "outputs": [
    {
     "name": "stdout",
     "output_type": "stream",
     "text": [
      "===== Training Results =====\n",
      "\n",
      "Iteration: 0, \tloss: 358.355\n",
      "Iteration: 5000, \tloss: 1.04699\n",
      "Iteration: 10000, \tloss: 0.520334\n",
      "Iteration: 15000, \tloss: 0.328898\n",
      "Iteration: 20000, \tloss: 0.251927\n",
      "Iteration: 25000, \tloss: 0.21881\n",
      "Iteration: 30000, \tloss: 0.203313\n",
      "Iteration: 35000, \tloss: 0.195359\n",
      "Iteration: 40000, \tloss: 0.190913\n",
      "Iteration: 45000, \tloss: 0.188255\n"
     ]
    },
    {
     "data": {
      "image/png": "[encoded data removed]",
      "text/plain": [
       "<Figure size 864x288 with 2 Axes>"
      ]
     },
     "metadata": {
      "needs_background": "light"
     },
     "output_type": "display_data"
    }
   ],
   "source": [
    "# regularization term\n",
    "lambda_parameter = 0.004\n",
    "ridge_regularization = lambda_parameter * tf.math.reduce_sum(w)\n",
    "\n",
    "# cost function with regularization term\n",
    "with tf.name_scope(name='polynomial_cost_function'):\n",
    "    cost_function = tf.losses.mean_squared_error(model_output, target_output) + ridge_regularization\n",
    "\n",
    "# gradient descent optimizer\n",
    "with tf.name_scope(name='polynomial_optimizer'):\n",
    "    optimizer = tf.train.GradientDescentOptimizer(learning_rate=0.0001)\n",
    "    optimization_step = optimizer.minimize(cost_function)\n",
    "    \n",
    "init = tf.global_variables_initializer()\n",
    "errors = []\n",
    "\n",
    "# run regression model\n",
    "with tf.Session() as sess:\n",
    "    sess.run(init)\n",
    "    \n",
    "    print('===== Training Results =====\\n')\n",
    "    for i in range(epochs):\n",
    "        loss, _ = sess.run([cost_function, optimization_step],\n",
    "                            feed_dict={data_input: observation_data_design_matrix, target_output: values_for_observation})\n",
    "        errors.append(loss)\n",
    "        \n",
    "        # display loss for each iteration\n",
    "        if i % 5_000 == 0:\n",
    "            print('Iteration: {}, \\tloss: {:.6}'.format(i, loss))\n",
    "            \n",
    "        predictions = sess.run(model_output, feed_dict={data_input: xs_design_matrix})\n",
    "        \n",
    "# plot training results\n",
    "plot_results()"
   ]
  },
  {
   "cell_type": "markdown",
   "metadata": {},
   "source": [
    "The new model works slightly better. The $R^2$ correlation coefficient was 0.955735. This change is not quite significant, especially with a tiny dataset like ours. However, in larger datasets that have a problem with overfitting, penalty is a crucial step in polynomial regression."
   ]
  }
 ],
 "metadata": {
  "kernelspec": {
   "display_name": "Python 3",
   "language": "python",
   "name": "python3"
  },
  "language_info": {
   "codemirror_mode": {
    "name": "ipython",
    "version": 3
   },
   "file_extension": ".py",
   "mimetype": "text/x-python",
   "name": "python",
   "nbconvert_exporter": "python",
   "pygments_lexer": "ipython3",
   "version": "3.7.0"
  }
 },
 "nbformat": 4,
 "nbformat_minor": 5
}
